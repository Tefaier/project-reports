{
 "cells": [
  {
   "cell_type": "code",
   "execution_count": 1,
   "id": "a3b96d79-410b-47f4-a0d5-4c83c0c95db0",
   "metadata": {},
   "outputs": [],
   "source": [
    "import cv2\n",
    "import numpy as np\n",
    "import time\n",
    "import os\n",
    "import glob"
   ]
  },
  {
   "cell_type": "code",
   "execution_count": 2,
   "id": "67ac2345-f029-4a5a-bab1-9d782ef5fafc",
   "metadata": {},
   "outputs": [],
   "source": [
    "camera = cv2.VideoCapture(0)\n",
    "i = 0\n",
    "while True:\n",
    "    success, frame = camera.read()\n",
    "    if not success:\n",
    "        break\n",
    "    \n",
    "    key = cv2.waitKey(30) & 0xFF\n",
    "    if key == ord('q'): \n",
    "        break\n",
    "    elif key == 32: \n",
    "        cv2.imwrite(\"calib/\" + str(i) + \".jpg\", frame)\n",
    "        i+=1\n",
    "\n",
    "    cv2.imshow(\"frame\", frame)\n",
    "camera.release()\n",
    "cv2.destroyAllWindows()"
   ]
  },
  {
   "cell_type": "code",
   "execution_count": null,
   "id": "891aa1ee-53bb-49fb-9913-9b95150a592a",
   "metadata": {},
   "outputs": [],
   "source": [
    "# termination criteria\n",
    "criteria = (cv.TERM_CRITERIA_EPS + cv.TERM_CRITERIA_MAX_ITER, 30, 0.001)\n",
    " \n",
    "# prepare object points, like (0,0,0), (1,0,0), (2,0,0) ....,(6,5,0)\n",
    "objp = np.zeros((6*7,3), np.float32)\n",
    "objp[:,:2] = np.mgrid[0:7,0:6].T.reshape(-1,2) * 0.02 # 0.02 is size in m of chessboard cell\n",
    " \n",
    "# Arrays to store object points and image points from all the images.\n",
    "objpoints = [] # 3d point in real world space\n",
    "imgpoints = [] # 2d points in image plane.\n",
    "\n",
    "images = glob.glob(\"calib/*.jpg\")\n",
    "\n",
    "for frame in images:\n",
    "    img = cv.imread(frame)\n",
    "    gray = cv.cvtColor(img, cv.COLOR_BGR2GRAY)\n",
    " \n",
    "    # Find the chess board corners\n",
    "    ret, corners = cv.findChessboardCorners(gray, (7,6), None)\n",
    " \n",
    "    # If found, add object points, image points (after refining them)\n",
    "    if ret == True:\n",
    "        objpoints.append(objp)\n",
    " \n",
    "        corners2 = cv.cornerSubPix(gray,corners, (11,11), (-1,-1), criteria)\n",
    "        imgpoints.append(corners2)\n",
    " \n",
    "        # Draw and display the corners\n",
    "        cv.drawChessboardCorners(img, (7,6), corners2, ret)\n",
    "        cv.imshow('img', img)\n",
    "        cv.waitKey(500)\n",
    " \n",
    "cv.destroyAllWindows()"
   ]
  },
  {
   "cell_type": "raw",
   "id": "d3569dee-0ffd-4fd6-a3fd-3c99d12b2028",
   "metadata": {},
   "source": [
    "cv2.calibrateCamera() will callibrate camera distortion according to objpoints and imgpoints\n",
    "returns many many things\n",
    "can be further used for cv2.solvePnP when there is distortion info, pos on image info and objects displacement from each other\n",
    "also mask + connected components -> image size -> assumption of distance can be used\n",
    "also camera height + camera angle + obj forced on \"floor\" + obj pos in the image -> trigonometry can be used to calculate obj pos (pic2r)"
   ]
  }
 ],
 "metadata": {
  "kernelspec": {
   "display_name": "Python 3 (ipykernel)",
   "language": "python",
   "name": "python3"
  },
  "language_info": {
   "codemirror_mode": {
    "name": "ipython",
    "version": 3
   },
   "file_extension": ".py",
   "mimetype": "text/x-python",
   "name": "python",
   "nbconvert_exporter": "python",
   "pygments_lexer": "ipython3",
   "version": "3.12.4"
  }
 },
 "nbformat": 4,
 "nbformat_minor": 5
}
