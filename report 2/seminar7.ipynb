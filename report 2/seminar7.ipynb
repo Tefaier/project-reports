{
 "cells": [
  {
   "cell_type": "raw",
   "id": "673f2001-4b08-4486-90f3-af5239d2acb4",
   "metadata": {},
   "source": [
    "seminar 7 - about using stereoimage (two cameras, calibrating them and their position relative to each other and then using the results)"
   ]
  },
  {
   "cell_type": "code",
   "execution_count": 3,
   "id": "be387e51-c7e0-4563-820f-884f9df1d8f3",
   "metadata": {},
   "outputs": [
    {
     "name": "stderr",
     "output_type": "stream",
     "text": [
      "ERROR: Could not find a version that satisfies the requirement open3d (from versions: none)\n",
      "ERROR: No matching distribution found for open3d\n"
     ]
    }
   ],
   "source": [
    "!pip install open3d\n",
    "# seems that python version is too new for open3d"
   ]
  },
  {
   "cell_type": "code",
   "execution_count": 1,
   "id": "8637211d-fc79-41b0-8ad3-eefc2891fa10",
   "metadata": {},
   "outputs": [
    {
     "name": "stdout",
     "output_type": "stream",
     "text": [
      "Python 3.12.4\n"
     ]
    }
   ],
   "source": [
    "!python --version"
   ]
  },
  {
   "cell_type": "code",
   "execution_count": 2,
   "id": "bad71746-0175-4779-9a0e-405eb817e26a",
   "metadata": {},
   "outputs": [
    {
     "ename": "ModuleNotFoundError",
     "evalue": "No module named 'open3d'",
     "output_type": "error",
     "traceback": [
      "\u001b[1;31m---------------------------------------------------------------------------\u001b[0m",
      "\u001b[1;31mModuleNotFoundError\u001b[0m                       Traceback (most recent call last)",
      "Cell \u001b[1;32mIn[2], line 5\u001b[0m\n\u001b[0;32m      3\u001b[0m \u001b[38;5;28;01mimport\u001b[39;00m \u001b[38;5;21;01mcopy\u001b[39;00m\n\u001b[0;32m      4\u001b[0m \u001b[38;5;28;01mimport\u001b[39;00m \u001b[38;5;21;01mmatplotlib\u001b[39;00m\u001b[38;5;21;01m.\u001b[39;00m\u001b[38;5;21;01mpyplot\u001b[39;00m \u001b[38;5;28;01mas\u001b[39;00m \u001b[38;5;21;01mplt\u001b[39;00m\n\u001b[1;32m----> 5\u001b[0m \u001b[38;5;28;01mimport\u001b[39;00m \u001b[38;5;21;01mopen3d\u001b[39;00m\n",
      "\u001b[1;31mModuleNotFoundError\u001b[0m: No module named 'open3d'"
     ]
    }
   ],
   "source": [
    "import cv2\n",
    "import numpy as np\n",
    "import copy\n",
    "import matplotlib.pyplot as plt\n",
    "import open3d"
   ]
  },
  {
   "cell_type": "code",
   "execution_count": null,
   "id": "ba1aac1d-8d7e-4992-bb2b-a41a8f3abc99",
   "metadata": {},
   "outputs": [],
   "source": [
    "caml = cv2.VideoCapture(0)\n",
    "camr = cv2.VideoCapture(1)\n",
    "i = 0\n",
    "while True:\n",
    "    sl, fl = caml.read()\n",
    "    sr, fr = camr.read()\n",
    "    if not sl or not sr:\n",
    "        break\n",
    "    \n",
    "    key = cv2.waitKey(30) & 0xFF\n",
    "    if key == ord('q'): \n",
    "        break\n",
    "    elif key == 32: \n",
    "        cv2.imwrite(\"calib/\" + str(i) + \"_l.jpg\", fl)\n",
    "        cv2.imwrite(\"calib/\" + str(i) + \"_r.jpg\", fr)\n",
    "        i+=1\n",
    "\n",
    "    cv2.imshow(\"frame left\", fl)\n",
    "    cv2.imshow(\"frame right\", fr)\n",
    "caml.release()\n",
    "camr.release()\n",
    "cv2.destroyAllWindows()"
   ]
  },
  {
   "cell_type": "code",
   "execution_count": null,
   "id": "4b4f905c-f10e-4aed-b30c-53ad673355d8",
   "metadata": {},
   "outputs": [],
   "source": [
    "cv2.stereoCalibrate\n",
    "# then, using gray images and calibration setup\n",
    "cv2.stereoRectify\n",
    "# then\n",
    "cv2.initUndistortRectifyMap\n",
    "# then\n",
    "cv2.remap\n",
    "# then\n",
    "stereo = cv2.Stereo8M_create()\n",
    "# then actual block matching using recitfied images\n",
    "stereo.compute(limage, rimage)\n",
    "# then DisparityWLSFilter used to reduce noises in results of stereo\n",
    "# then \n",
    "cv2.reprojectImageTo3D()\n",
    "# then we get point clouds (part of open3d) and use open3d for further visualisation"
   ]
  }
 ],
 "metadata": {
  "kernelspec": {
   "display_name": "Python 3 (ipykernel)",
   "language": "python",
   "name": "python3"
  },
  "language_info": {
   "codemirror_mode": {
    "name": "ipython",
    "version": 3
   },
   "file_extension": ".py",
   "mimetype": "text/x-python",
   "name": "python",
   "nbconvert_exporter": "python",
   "pygments_lexer": "ipython3",
   "version": "3.12.4"
  }
 },
 "nbformat": 4,
 "nbformat_minor": 5
}
