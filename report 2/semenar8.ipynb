{
 "cells": [
  {
   "cell_type": "raw",
   "id": "732dda9f-1c2a-4410-aaab-8ecd4059ae36",
   "metadata": {},
   "source": [
    "seminar 8 -> recognition of lines (I re implemented only LSE, other methods only have some remarks)"
   ]
  },
  {
   "cell_type": "code",
   "execution_count": 1,
   "id": "169883b6-edbc-434d-be9d-d2f63e29ccce",
   "metadata": {},
   "outputs": [],
   "source": [
    "import numpy as np\n",
    "import cv2\n",
    "import math\n",
    "import time"
   ]
  },
  {
   "cell_type": "code",
   "execution_count": 21,
   "id": "16562218-d141-4ceb-8c3f-3a8ea1ca7657",
   "metadata": {},
   "outputs": [],
   "source": [
    "def find_mask(frame):\n",
    "    mask = cv2.inRange(frame, (0,0,0), (254, 254, 254))\n",
    "    output = cv2.connectedComponentsWithStats(mask, 4, cv2.CV_32S)\n",
    "\n",
    "    num_labels = output[0]\n",
    "    labels = output[1]\n",
    "    stats = output[2]\n",
    "\n",
    "    dots = []\n",
    "\n",
    "    for i in range(1, num_labels):\n",
    "        a = stats[i, cv2.CC_STAT_AREA]\n",
    "        w = stats[i, cv2.CC_STAT_WIDTH]\n",
    "        h = stats[i, cv2.CC_STAT_HEIGHT]\n",
    "        t = stats[i, cv2.CC_STAT_TOP]\n",
    "        l = stats[i, cv2.CC_STAT_LEFT]\n",
    "        if (a > 10 and a < 400 and w/h < 3 and h/w < 3):\n",
    "            dots.append((l + w//2, t + h//2))\n",
    "            cv2.rectangle(frame, (l, t), (l + w, t + h), (0, 0, 255), 3)\n",
    "\n",
    "    return mask, dots"
   ]
  },
  {
   "cell_type": "code",
   "execution_count": 3,
   "id": "00f49424-83e5-4826-9d54-1ca5e5d199fc",
   "metadata": {},
   "outputs": [],
   "source": [
    "def draw_line(frame, a, b, xmin, xmax, color = (200, 30, 30)):\n",
    "    y1 = int(xmin * a + b)\n",
    "    y2 = int(xmax * a + b)\n",
    "    cv2.line(frame, (int(xmin), int(y1)), (int(xmax), int(y2)), color, 3)"
   ]
  },
  {
   "cell_type": "code",
   "execution_count": 4,
   "id": "8047d79d-83e0-44ef-98ac-486029f1d61f",
   "metadata": {},
   "outputs": [],
   "source": [
    "def draw_line_r_theta(frame, r, theta, xmin, xmax, color = (200, 30, 30)):\n",
    "    a = math.tan(theta)\n",
    "    x0 = r * math.cos(theta + math.pi/2)\n",
    "    y0 = r * math.sin(theta + math.pi/2)\n",
    "    b = y0 - xo * a\n",
    "    draw_line(frame, a, b, xmin, xmax, color)"
   ]
  },
  {
   "cell_type": "code",
   "execution_count": 5,
   "id": "2fd92af5-85f5-417d-b735-c3592b8ad4ad",
   "metadata": {},
   "outputs": [],
   "source": [
    "def repack_data(dots):\n",
    "    n = len(dots)\n",
    "    x = np.zeros((n))\n",
    "    y = np.zeros((n))\n",
    "    for i in range(n):\n",
    "        x[i], y[i] = dots[i]\n",
    "    xmin = min(x)\n",
    "    xmax = max(x)\n",
    "    return n, x, y, xmin, xmax"
   ]
  },
  {
   "cell_type": "code",
   "execution_count": 6,
   "id": "d3995a84-b393-4bbd-8538-c4e247c7b591",
   "metadata": {},
   "outputs": [],
   "source": [
    "def calc_distance(a, b, dot):\n",
    "    x, y = dot\n",
    "    xp = (y*a + x - b*a) / (a*a + 1)\n",
    "    yp = a*xp + b\n",
    "    return math.sqrt((xp - x)**2 + (yp - y)**2)"
   ]
  },
  {
   "cell_type": "code",
   "execution_count": 7,
   "id": "17bd2e7b-c39e-4bf8-b1d0-fb3cf78d6409",
   "metadata": {},
   "outputs": [],
   "source": [
    "def r_theta_by_a_b(a, b):\n",
    "    return b / math.sqrt(a*a + 1), math.atan(a) # r, theta"
   ]
  },
  {
   "cell_type": "code",
   "execution_count": 8,
   "id": "a18700ae-0529-430a-a0c2-8ab7ec5eeb2b",
   "metadata": {},
   "outputs": [],
   "source": [
    "def LSE(dots):\n",
    "    n, x, y, xmin, xmax = repack_data(dots)\n",
    "\n",
    "    Y = sum(y)\n",
    "    X = sum(x)\n",
    "    XY = sum(x*y)\n",
    "    XX = sum(x*x)\n",
    "    \n",
    "    b_hat = (Y*XX - XY*X)/(n*XX - X*X)\n",
    "    a_hat = (XY - b_hat*X) / XX\n",
    "    \n",
    "    return a_hat, b_hat, xmin, xmax"
   ]
  },
  {
   "cell_type": "raw",
   "id": "7fcd7bd8-b2f4-4872-90ff-faee3a9bde99",
   "metadata": {},
   "source": [
    "def Hough_transform():\n",
    "    from all points lines are tried with given angle offset\n",
    "    then each line r is calculated and it increases value in accumulation array((angle, distance))\n",
    "    then the cell with highest value is located and its indexes are converted to answer\n",
    "    \n",
    "cv2->hough transform uses edges?"
   ]
  },
  {
   "cell_type": "raw",
   "id": "3032f28b-1e52-4107-9ed4-98c09abd6f72",
   "metadata": {},
   "source": [
    "def RANSAC():\n",
    "    calculate number(->m) of samples to make to achieve certaint guarantee success rate\n",
    "    then m times take random two random dots and make line\n",
    "    calc_distance from line to all points\n",
    "        each time decide if epsilon is low enough, then count to be inlier\n",
    "    choose one with most inliers\n",
    "cv2->search says that there is some usac that is much better (part of calib3d)"
   ]
  },
  {
   "cell_type": "code",
   "execution_count": 22,
   "id": "3d27ed16-aadd-4297-9122-b15f2e8c1e97",
   "metadata": {},
   "outputs": [],
   "source": [
    "img = cv2.imread(r\"dots.png\")\n",
    "\n",
    "mask, dots = find_mask(img)\n",
    "ah, bh, xmin, xmax = LSE(dots)\n",
    "draw_line(img, ah, bh, xmin, xmax)\n",
    "\n",
    "cv2.imshow(\"image\", img)\n",
    "cv2.waitKey(0)\n",
    "cv2.destroyAllWindows()"
   ]
  }
 ],
 "metadata": {
  "kernelspec": {
   "display_name": "Python 3 (ipykernel)",
   "language": "python",
   "name": "python3"
  },
  "language_info": {
   "codemirror_mode": {
    "name": "ipython",
    "version": 3
   },
   "file_extension": ".py",
   "mimetype": "text/x-python",
   "name": "python",
   "nbconvert_exporter": "python",
   "pygments_lexer": "ipython3",
   "version": "3.12.4"
  }
 },
 "nbformat": 4,
 "nbformat_minor": 5
}
